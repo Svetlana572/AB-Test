{
 "cells": [
  {
   "cell_type": "markdown",
   "id": "97e7533e-464c-41bc-9671-2c2781762f51",
   "metadata": {},
   "source": [
    "## AB-тест"
   ]
  },
  {
   "cell_type": "markdown",
   "id": "ad78aca5",
   "metadata": {},
   "source": [
    "Предположим, что наш продукт это мобильное приложение. База данных ClockHouse. Все пользователи деляться на группы для проведения экспериментов. Необходимо проанализировать результаты эксперимента, который мы провели вместе с командой дата сайентистов. Эксперимент проходил  с 2022-01-28 по 2022-02-03 включительно. Для эксперимента были задействованы 0 и 1 группы. "
   ]
  },
  {
   "cell_type": "code",
   "execution_count": 1,
   "id": "2eec25c7-f612-4b3d-8af7-64c850f98657",
   "metadata": {},
   "outputs": [],
   "source": [
    "# импортируем нужные для работы библиотеки\n",
    "import pandas as pd\n",
    "import matplotlib.pyplot as plt\n",
    "import seaborn as sns\n",
    "import pandahouse as ph\n",
    "from scipy import stats\n",
    "import numpy as np"
   ]
  },
  {
   "cell_type": "code",
   "execution_count": 2,
   "id": "e09174a2-a5c4-47f5-be2e-34478512d652",
   "metadata": {},
   "outputs": [],
   "source": [
    "# подключимся к базе данных\n",
    "connection = {'host': 'http://clickhouse.beslan.pro:8080',\n",
    "                      'database':'simulator_20220120',\n",
    "                      'user':'student', \n",
    "                      'password':'dpo_python_2020'\n",
    "                     }\n",
    "\n",
    "query = \"select user_id, countIf(user_id, action = 'like') as like, \\\n",
    "countIf(user_id, action = 'view') as view, like/view as ctr, \\\n",
    "exp_group from {db}.feed_actions where (toDate(time) between '2022-01-28' and '2022-02-03') \\\n",
    "and exp_group in (0, 1) group by user_id, exp_group\"\n",
    "df = ph.read_clickhouse(query, connection=connection)"
   ]
  },
  {
   "cell_type": "markdown",
   "id": "e0e28bde-fb51-485c-a607-11b04522b651",
   "metadata": {},
   "source": [
    "В 1 группе был использован новый алгоритм рекомендации постов, 0 группа использовалась в качестве контроля. "
   ]
  },
  {
   "cell_type": "markdown",
   "id": "35d89871-fa74-4bf4-9b8b-4146fd9b1afb",
   "metadata": {},
   "source": [
    "Нулевая гипотеза будет звучать так: \"CTR первой группы равен CTR второй группы\""
   ]
  },
  {
   "cell_type": "markdown",
   "id": "4e31850a-6ca8-4644-b96c-5b55c4887145",
   "metadata": {},
   "source": [
    "Проведем Т-тест и тест mannwhitneyu"
   ]
  },
  {
   "cell_type": "markdown",
   "id": "c1858552-4c3b-44c3-a933-93d85c8d27e1",
   "metadata": {},
   "source": [
    "Для начала посмотрим на распределения CTR"
   ]
  },
  {
   "cell_type": "code",
   "execution_count": 3,
   "id": "5dcd62ea-38dd-47b9-857a-0d8ef4a746a1",
   "metadata": {},
   "outputs": [
    {
     "data": {
      "text/plain": [
       "<seaborn.axisgrid.FacetGrid at 0x1eb3270a8e0>"
      ]
     },
     "execution_count": 3,
     "metadata": {},
     "output_type": "execute_result"
    },
    {
     "data": {
      "image/png": "[encoded data removed]",
      "text/plain": [
       "<Figure size 360x360 with 1 Axes>"
      ]
     },
     "metadata": {
      "needs_background": "light"
     },
     "output_type": "display_data"
    }
   ],
   "source": [
    "sns.displot(df[df.exp_group == 0].ctr, kde = False)"
   ]
  },
  {
   "cell_type": "code",
   "execution_count": 4,
   "id": "766c4c6d-9d6e-47a4-8600-eaa555fbb2d3",
   "metadata": {},
   "outputs": [
    {
     "data": {
      "text/plain": [
       "<seaborn.axisgrid.FacetGrid at 0x1eb3510dfa0>"
      ]
     },
     "execution_count": 4,
     "metadata": {},
     "output_type": "execute_result"
    },
    {
     "data": {
      "image/png": "[encoded data removed]",
      "text/plain": [
       "<Figure size 360x360 with 1 Axes>"
      ]
     },
     "metadata": {
      "needs_background": "light"
     },
     "output_type": "display_data"
    }
   ],
   "source": [
    "sns.displot(df[df.exp_group == 1].ctr, kde = False)"
   ]
  },
  {
   "cell_type": "markdown",
   "id": "0d203ecf-6ddb-490d-a239-064c3a10e816",
   "metadata": {},
   "source": [
    "Видим, что распределения похожи между собой и на нормальное распределение, но есть выбросы в нуле и длинный хвост справа. Такой CTR получается у пользователей, которые еще мало времени провели в приложении. Они еще не успели показать свой реальный CTR. Поэтому будем считать, что CTR у таких пользователей ближе к global CTR. Произведем преобразование CTR"
   ]
  },
  {
   "cell_type": "code",
   "execution_count": 5,
   "id": "3f9e527d-6261-4f6c-894d-a1bda5199e60",
   "metadata": {},
   "outputs": [],
   "source": [
    "def get_smothed_ctr (user_likes, user_views, global_ctr, alpha):\n",
    "    smothed_ctr = (user_likes + alpha * global_ctr) / (user_views + alpha)\n",
    "    return smothed_ctr"
   ]
  },
  {
   "cell_type": "code",
   "execution_count": 6,
   "id": "7ed7982a-0745-4ea9-a858-265fd3c9e7b9",
   "metadata": {},
   "outputs": [],
   "source": [
    "global_ctr = df.like.sum() / df.view.sum()"
   ]
  },
  {
   "cell_type": "code",
   "execution_count": 7,
   "id": "ea7a457f-c48e-485c-a560-b4a6c9495194",
   "metadata": {},
   "outputs": [],
   "source": [
    "df['smothed_ctr'] = df.apply(\n",
    "    lambda x: get_smothed_ctr(x['like'], x['view'], global_ctr, 5), axis = 1)"
   ]
  },
  {
   "cell_type": "code",
   "execution_count": 8,
   "id": "f8656e35-5704-4baf-b222-1aeaecd54a8b",
   "metadata": {},
   "outputs": [
    {
     "data": {
      "text/html": [
       "<div>\n",
       "<style scoped>\n",
       "    .dataframe tbody tr th:only-of-type {\n",
       "        vertical-align: middle;\n",
       "    }\n",
       "\n",
       "    .dataframe tbody tr th {\n",
       "        vertical-align: top;\n",
       "    }\n",
       "\n",
       "    .dataframe thead th {\n",
       "        text-align: right;\n",
       "    }\n",
       "</style>\n",
       "<table border=\"1\" class=\"dataframe\">\n",
       "  <thead>\n",
       "    <tr style=\"text-align: right;\">\n",
       "      <th></th>\n",
       "      <th>user_id</th>\n",
       "      <th>like</th>\n",
       "      <th>view</th>\n",
       "      <th>ctr</th>\n",
       "      <th>exp_group</th>\n",
       "      <th>smothed_ctr</th>\n",
       "    </tr>\n",
       "  </thead>\n",
       "  <tbody>\n",
       "    <tr>\n",
       "      <th>0</th>\n",
       "      <td>26117</td>\n",
       "      <td>5</td>\n",
       "      <td>21</td>\n",
       "      <td>0.238095</td>\n",
       "      <td>1</td>\n",
       "      <td>0.234903</td>\n",
       "    </tr>\n",
       "    <tr>\n",
       "      <th>1</th>\n",
       "      <td>138232</td>\n",
       "      <td>5</td>\n",
       "      <td>29</td>\n",
       "      <td>0.172414</td>\n",
       "      <td>1</td>\n",
       "      <td>0.179632</td>\n",
       "    </tr>\n",
       "    <tr>\n",
       "      <th>2</th>\n",
       "      <td>49204</td>\n",
       "      <td>10</td>\n",
       "      <td>62</td>\n",
       "      <td>0.161290</td>\n",
       "      <td>1</td>\n",
       "      <td>0.165783</td>\n",
       "    </tr>\n",
       "    <tr>\n",
       "      <th>3</th>\n",
       "      <td>49286</td>\n",
       "      <td>7</td>\n",
       "      <td>19</td>\n",
       "      <td>0.368421</td>\n",
       "      <td>1</td>\n",
       "      <td>0.337812</td>\n",
       "    </tr>\n",
       "    <tr>\n",
       "      <th>4</th>\n",
       "      <td>145957</td>\n",
       "      <td>54</td>\n",
       "      <td>129</td>\n",
       "      <td>0.418605</td>\n",
       "      <td>1</td>\n",
       "      <td>0.411250</td>\n",
       "    </tr>\n",
       "    <tr>\n",
       "      <th>...</th>\n",
       "      <td>...</td>\n",
       "      <td>...</td>\n",
       "      <td>...</td>\n",
       "      <td>...</td>\n",
       "      <td>...</td>\n",
       "      <td>...</td>\n",
       "    </tr>\n",
       "    <tr>\n",
       "      <th>25994</th>\n",
       "      <td>3681</td>\n",
       "      <td>6</td>\n",
       "      <td>28</td>\n",
       "      <td>0.214286</td>\n",
       "      <td>0</td>\n",
       "      <td>0.215378</td>\n",
       "    </tr>\n",
       "    <tr>\n",
       "      <th>25995</th>\n",
       "      <td>110956</td>\n",
       "      <td>12</td>\n",
       "      <td>63</td>\n",
       "      <td>0.190476</td>\n",
       "      <td>1</td>\n",
       "      <td>0.192757</td>\n",
       "    </tr>\n",
       "    <tr>\n",
       "      <th>25996</th>\n",
       "      <td>132567</td>\n",
       "      <td>18</td>\n",
       "      <td>66</td>\n",
       "      <td>0.272727</td>\n",
       "      <td>1</td>\n",
       "      <td>0.269120</td>\n",
       "    </tr>\n",
       "    <tr>\n",
       "      <th>25997</th>\n",
       "      <td>30872</td>\n",
       "      <td>25</td>\n",
       "      <td>82</td>\n",
       "      <td>0.304878</td>\n",
       "      <td>1</td>\n",
       "      <td>0.300086</td>\n",
       "    </tr>\n",
       "    <tr>\n",
       "      <th>25998</th>\n",
       "      <td>11718</td>\n",
       "      <td>7</td>\n",
       "      <td>37</td>\n",
       "      <td>0.189189</td>\n",
       "      <td>0</td>\n",
       "      <td>0.193035</td>\n",
       "    </tr>\n",
       "  </tbody>\n",
       "</table>\n",
       "<p>25999 rows × 6 columns</p>\n",
       "</div>"
      ],
      "text/plain": [
       "       user_id  like  view       ctr  exp_group  smothed_ctr\n",
       "0        26117     5    21  0.238095          1     0.234903\n",
       "1       138232     5    29  0.172414          1     0.179632\n",
       "2        49204    10    62  0.161290          1     0.165783\n",
       "3        49286     7    19  0.368421          1     0.337812\n",
       "4       145957    54   129  0.418605          1     0.411250\n",
       "...        ...   ...   ...       ...        ...          ...\n",
       "25994     3681     6    28  0.214286          0     0.215378\n",
       "25995   110956    12    63  0.190476          1     0.192757\n",
       "25996   132567    18    66  0.272727          1     0.269120\n",
       "25997    30872    25    82  0.304878          1     0.300086\n",
       "25998    11718     7    37  0.189189          0     0.193035\n",
       "\n",
       "[25999 rows x 6 columns]"
      ]
     },
     "execution_count": 8,
     "metadata": {},
     "output_type": "execute_result"
    }
   ],
   "source": [
    "df"
   ]
  },
  {
   "cell_type": "markdown",
   "id": "5f57d74b-177b-492e-9940-622742f748c0",
   "metadata": {},
   "source": [
    "Теперь посмотрим на распределения уже сглаженного CTR"
   ]
  },
  {
   "cell_type": "code",
   "execution_count": 9,
   "id": "4603cff8-bb14-45c7-b87b-432ee6427536",
   "metadata": {},
   "outputs": [
    {
     "data": {
      "text/plain": [
       "<seaborn.axisgrid.FacetGrid at 0x1eb37a7e070>"
      ]
     },
     "execution_count": 9,
     "metadata": {},
     "output_type": "execute_result"
    },
    {
     "data": {
      "image/png": "[encoded data removed]",
      "text/plain": [
       "<Figure size 360x360 with 1 Axes>"
      ]
     },
     "metadata": {
      "needs_background": "light"
     },
     "output_type": "display_data"
    }
   ],
   "source": [
    "sns.displot(df[df.exp_group == 0].smothed_ctr, kde = False)"
   ]
  },
  {
   "cell_type": "code",
   "execution_count": 10,
   "id": "c04133d8-4227-49dc-bbbf-3df9586db4c4",
   "metadata": {},
   "outputs": [
    {
     "data": {
      "text/plain": [
       "<seaborn.axisgrid.FacetGrid at 0x1eb37e8cd90>"
      ]
     },
     "execution_count": 10,
     "metadata": {},
     "output_type": "execute_result"
    },
    {
     "data": {
      "image/png": "[encoded data removed]",
      "text/plain": [
       "<Figure size 360x360 with 1 Axes>"
      ]
     },
     "metadata": {
      "needs_background": "light"
     },
     "output_type": "display_data"
    }
   ],
   "source": [
    "sns.displot(df[df.exp_group == 1].smothed_ctr, kde = False)"
   ]
  },
  {
   "cell_type": "markdown",
   "id": "c915cee2-e604-4b4f-8cc1-11eeeeffbd08",
   "metadata": {},
   "source": [
    "Теперь наши распределения больше похожи на нормальное"
   ]
  },
  {
   "cell_type": "markdown",
   "id": "3d6bcc7a-8aa9-4d6b-90b5-bf5d0fe3075c",
   "metadata": {},
   "source": [
    "Сравним доверительные интервалы CTR в двух группах"
   ]
  },
  {
   "cell_type": "code",
   "execution_count": 11,
   "id": "2a75539c-45b1-425b-aae8-d1a0bcfeeef6",
   "metadata": {},
   "outputs": [
    {
     "name": "stdout",
     "output_type": "stream",
     "text": [
      "0.11250880281690143\n",
      "0.23648646948093194\n",
      "0.4\n"
     ]
    }
   ],
   "source": [
    "print(df[df.exp_group == 1].ctr.quantile(0.05)),\n",
    "print(df[df.exp_group == 1].ctr.mean()),\n",
    "print(df[df.exp_group == 1].ctr.quantile(0.95))"
   ]
  },
  {
   "cell_type": "code",
   "execution_count": 12,
   "id": "b1f0a3bd-ad36-4c7c-86f1-3eceaba8dfb5",
   "metadata": {},
   "outputs": [
    {
     "name": "stdout",
     "output_type": "stream",
     "text": [
      "0.1034482758620689\n",
      "0.22195492956578272\n",
      "0.3846153846153846\n"
     ]
    }
   ],
   "source": [
    "print(df[df.exp_group == 0].ctr.quantile(0.05)),\n",
    "print(df[df.exp_group == 0].ctr.mean()),\n",
    "print(df[df.exp_group == 0].ctr.quantile(0.95))"
   ]
  },
  {
   "cell_type": "markdown",
   "id": "794c71d7-b267-4bfb-aa4c-329b128a47fe",
   "metadata": {},
   "source": [
    "Видим, что CTR в 1 группе выше. Проверим нулевую гипотезу о равенстве CTR"
   ]
  },
  {
   "cell_type": "markdown",
   "id": "059c4b63-ced9-486d-98a7-0070da4f40d4",
   "metadata": {},
   "source": [
    "Проведем Т-тест для сглаженного CTR"
   ]
  },
  {
   "cell_type": "code",
   "execution_count": 13,
   "id": "5d58efdc-af4c-461b-8372-b6fb3ef422fb",
   "metadata": {},
   "outputs": [
    {
     "data": {
      "text/plain": [
       "Ttest_indResult(statistic=-14.27852163637721, pvalue=4.45125763752244e-46)"
      ]
     },
     "execution_count": 13,
     "metadata": {},
     "output_type": "execute_result"
    }
   ],
   "source": [
    "stats.ttest_ind(df[df.exp_group == 0].smothed_ctr, df[df.exp_group == 1].smothed_ctr, equal_var = False)"
   ]
  },
  {
   "cell_type": "markdown",
   "id": "8684caec-f7a8-46f7-9819-b312fc9112f6",
   "metadata": {},
   "source": [
    "И проведем тест mannwhitneyu для CTR"
   ]
  },
  {
   "cell_type": "code",
   "execution_count": 14,
   "id": "358c299a-789f-4412-ae68-8b98ce88dffe",
   "metadata": {},
   "outputs": [
    {
     "data": {
      "text/plain": [
       "MannwhitneyuResult(statistic=75455843.5, pvalue=1.9101702958848542e-50)"
      ]
     },
     "execution_count": 14,
     "metadata": {},
     "output_type": "execute_result"
    }
   ],
   "source": [
    "stats.mannwhitneyu(df[df.exp_group == 0].ctr, df[df.exp_group == 1].ctr)"
   ]
  },
  {
   "cell_type": "markdown",
   "id": "bb30185d-752c-4ed1-8e4a-6effd30b5d90",
   "metadata": {},
   "source": [
    "В обоих случаях p-values < 0.05, что позволяет отклонить нулевую гипотезу и сделать вывод о статистически значимых различиях в группах"
   ]
  },
  {
   "cell_type": "markdown",
   "id": "a371f6e0-814c-482a-9e87-d6be741fcaf9",
   "metadata": {},
   "source": [
    "### Проведем контрольную проверку, что новый алгоритм не привел к тому, что сократилось число просмотров у пользователей"
   ]
  },
  {
   "cell_type": "markdown",
   "id": "9cea17f1-e956-4935-9378-0f80da5432fb",
   "metadata": {},
   "source": [
    "Посмотрим на распределения просмотров"
   ]
  },
  {
   "cell_type": "code",
   "execution_count": 15,
   "id": "c6358cb3-3220-4b52-964e-e2f23d104ea0",
   "metadata": {},
   "outputs": [
    {
     "data": {
      "text/plain": [
       "<seaborn.axisgrid.FacetGrid at 0x1eb37c83580>"
      ]
     },
     "execution_count": 15,
     "metadata": {},
     "output_type": "execute_result"
    },
    {
     "data": {
      "image/png": "[encoded data removed]",
      "text/plain": [
       "<Figure size 360x360 with 1 Axes>"
      ]
     },
     "metadata": {
      "needs_background": "light"
     },
     "output_type": "display_data"
    }
   ],
   "source": [
    "sns.displot(df[df.exp_group == 0].view, kde = False)"
   ]
  },
  {
   "cell_type": "code",
   "execution_count": 16,
   "id": "524ac05b-fb3f-4c70-8b68-673016c6213f",
   "metadata": {},
   "outputs": [
    {
     "data": {
      "text/plain": [
       "<seaborn.axisgrid.FacetGrid at 0x1eb390a6b80>"
      ]
     },
     "execution_count": 16,
     "metadata": {},
     "output_type": "execute_result"
    },
    {
     "data": {
      "image/png": "[encoded data removed]",
      "text/plain": [
       "<Figure size 360x360 with 1 Axes>"
      ]
     },
     "metadata": {
      "needs_background": "light"
     },
     "output_type": "display_data"
    }
   ],
   "source": [
    "sns.displot(df[df.exp_group == 1].view, kde = False)"
   ]
  },
  {
   "cell_type": "markdown",
   "id": "b974ed70-9b88-479e-bc74-2f15001917fd",
   "metadata": {},
   "source": [
    "Распределения асимметричные, для проведения Т-теста, прологарифмируем наши данные"
   ]
  },
  {
   "cell_type": "code",
   "execution_count": 17,
   "id": "df5af88f-2721-4e5b-9552-d8eae26aeb81",
   "metadata": {},
   "outputs": [],
   "source": [
    "df['log_view'] = np.log(df.view)"
   ]
  },
  {
   "cell_type": "code",
   "execution_count": 18,
   "id": "a7fda2be-87ed-4400-896a-6d8e54697efb",
   "metadata": {},
   "outputs": [
    {
     "data": {
      "text/html": [
       "<div>\n",
       "<style scoped>\n",
       "    .dataframe tbody tr th:only-of-type {\n",
       "        vertical-align: middle;\n",
       "    }\n",
       "\n",
       "    .dataframe tbody tr th {\n",
       "        vertical-align: top;\n",
       "    }\n",
       "\n",
       "    .dataframe thead th {\n",
       "        text-align: right;\n",
       "    }\n",
       "</style>\n",
       "<table border=\"1\" class=\"dataframe\">\n",
       "  <thead>\n",
       "    <tr style=\"text-align: right;\">\n",
       "      <th></th>\n",
       "      <th>user_id</th>\n",
       "      <th>like</th>\n",
       "      <th>view</th>\n",
       "      <th>ctr</th>\n",
       "      <th>exp_group</th>\n",
       "      <th>smothed_ctr</th>\n",
       "      <th>log_view</th>\n",
       "    </tr>\n",
       "  </thead>\n",
       "  <tbody>\n",
       "    <tr>\n",
       "      <th>0</th>\n",
       "      <td>26117</td>\n",
       "      <td>5</td>\n",
       "      <td>21</td>\n",
       "      <td>0.238095</td>\n",
       "      <td>1</td>\n",
       "      <td>0.234903</td>\n",
       "      <td>3.044522</td>\n",
       "    </tr>\n",
       "    <tr>\n",
       "      <th>1</th>\n",
       "      <td>138232</td>\n",
       "      <td>5</td>\n",
       "      <td>29</td>\n",
       "      <td>0.172414</td>\n",
       "      <td>1</td>\n",
       "      <td>0.179632</td>\n",
       "      <td>3.367296</td>\n",
       "    </tr>\n",
       "    <tr>\n",
       "      <th>2</th>\n",
       "      <td>49204</td>\n",
       "      <td>10</td>\n",
       "      <td>62</td>\n",
       "      <td>0.161290</td>\n",
       "      <td>1</td>\n",
       "      <td>0.165783</td>\n",
       "      <td>4.127134</td>\n",
       "    </tr>\n",
       "    <tr>\n",
       "      <th>3</th>\n",
       "      <td>49286</td>\n",
       "      <td>7</td>\n",
       "      <td>19</td>\n",
       "      <td>0.368421</td>\n",
       "      <td>1</td>\n",
       "      <td>0.337812</td>\n",
       "      <td>2.944439</td>\n",
       "    </tr>\n",
       "    <tr>\n",
       "      <th>4</th>\n",
       "      <td>145957</td>\n",
       "      <td>54</td>\n",
       "      <td>129</td>\n",
       "      <td>0.418605</td>\n",
       "      <td>1</td>\n",
       "      <td>0.411250</td>\n",
       "      <td>4.859812</td>\n",
       "    </tr>\n",
       "    <tr>\n",
       "      <th>...</th>\n",
       "      <td>...</td>\n",
       "      <td>...</td>\n",
       "      <td>...</td>\n",
       "      <td>...</td>\n",
       "      <td>...</td>\n",
       "      <td>...</td>\n",
       "      <td>...</td>\n",
       "    </tr>\n",
       "    <tr>\n",
       "      <th>25994</th>\n",
       "      <td>3681</td>\n",
       "      <td>6</td>\n",
       "      <td>28</td>\n",
       "      <td>0.214286</td>\n",
       "      <td>0</td>\n",
       "      <td>0.215378</td>\n",
       "      <td>3.332205</td>\n",
       "    </tr>\n",
       "    <tr>\n",
       "      <th>25995</th>\n",
       "      <td>110956</td>\n",
       "      <td>12</td>\n",
       "      <td>63</td>\n",
       "      <td>0.190476</td>\n",
       "      <td>1</td>\n",
       "      <td>0.192757</td>\n",
       "      <td>4.143135</td>\n",
       "    </tr>\n",
       "    <tr>\n",
       "      <th>25996</th>\n",
       "      <td>132567</td>\n",
       "      <td>18</td>\n",
       "      <td>66</td>\n",
       "      <td>0.272727</td>\n",
       "      <td>1</td>\n",
       "      <td>0.269120</td>\n",
       "      <td>4.189655</td>\n",
       "    </tr>\n",
       "    <tr>\n",
       "      <th>25997</th>\n",
       "      <td>30872</td>\n",
       "      <td>25</td>\n",
       "      <td>82</td>\n",
       "      <td>0.304878</td>\n",
       "      <td>1</td>\n",
       "      <td>0.300086</td>\n",
       "      <td>4.406719</td>\n",
       "    </tr>\n",
       "    <tr>\n",
       "      <th>25998</th>\n",
       "      <td>11718</td>\n",
       "      <td>7</td>\n",
       "      <td>37</td>\n",
       "      <td>0.189189</td>\n",
       "      <td>0</td>\n",
       "      <td>0.193035</td>\n",
       "      <td>3.610918</td>\n",
       "    </tr>\n",
       "  </tbody>\n",
       "</table>\n",
       "<p>25999 rows × 7 columns</p>\n",
       "</div>"
      ],
      "text/plain": [
       "       user_id  like  view       ctr  exp_group  smothed_ctr  log_view\n",
       "0        26117     5    21  0.238095          1     0.234903  3.044522\n",
       "1       138232     5    29  0.172414          1     0.179632  3.367296\n",
       "2        49204    10    62  0.161290          1     0.165783  4.127134\n",
       "3        49286     7    19  0.368421          1     0.337812  2.944439\n",
       "4       145957    54   129  0.418605          1     0.411250  4.859812\n",
       "...        ...   ...   ...       ...        ...          ...       ...\n",
       "25994     3681     6    28  0.214286          0     0.215378  3.332205\n",
       "25995   110956    12    63  0.190476          1     0.192757  4.143135\n",
       "25996   132567    18    66  0.272727          1     0.269120  4.189655\n",
       "25997    30872    25    82  0.304878          1     0.300086  4.406719\n",
       "25998    11718     7    37  0.189189          0     0.193035  3.610918\n",
       "\n",
       "[25999 rows x 7 columns]"
      ]
     },
     "execution_count": 18,
     "metadata": {},
     "output_type": "execute_result"
    }
   ],
   "source": [
    "df"
   ]
  },
  {
   "cell_type": "markdown",
   "id": "673b7bf7-04c1-43bf-b739-cd8656ef98cd",
   "metadata": {},
   "source": [
    "Посмотрим теперь на распределения логарифмов "
   ]
  },
  {
   "cell_type": "code",
   "execution_count": 19,
   "id": "f36dd980-a597-495c-9420-75302d6955d2",
   "metadata": {},
   "outputs": [
    {
     "data": {
      "text/plain": [
       "<seaborn.axisgrid.FacetGrid at 0x1eb390ab160>"
      ]
     },
     "execution_count": 19,
     "metadata": {},
     "output_type": "execute_result"
    },
    {
     "data": {
      "image/png": "[encoded data removed]",
      "text/plain": [
       "<Figure size 360x360 with 1 Axes>"
      ]
     },
     "metadata": {
      "needs_background": "light"
     },
     "output_type": "display_data"
    }
   ],
   "source": [
    "sns.displot(df[df.exp_group == 0].log_view, kde = False)"
   ]
  },
  {
   "cell_type": "code",
   "execution_count": 20,
   "id": "3a929b76-4a4b-4b70-85c0-5ac407e90303",
   "metadata": {},
   "outputs": [
    {
     "data": {
      "text/plain": [
       "<seaborn.axisgrid.FacetGrid at 0x1eb390ab460>"
      ]
     },
     "execution_count": 20,
     "metadata": {},
     "output_type": "execute_result"
    },
    {
     "data": {
      "image/png": "[encoded data removed]",
      "text/plain": [
       "<Figure size 360x360 with 1 Axes>"
      ]
     },
     "metadata": {
      "needs_background": "light"
     },
     "output_type": "display_data"
    }
   ],
   "source": [
    "sns.displot(df[df.exp_group == 1].log_view, kde = False)"
   ]
  },
  {
   "cell_type": "markdown",
   "id": "13fb24a3-8b69-4333-824b-b51582c6704e",
   "metadata": {},
   "source": [
    "Не идеально, но уже лучше, проведем Т-тест по логарифмированным просмотрам и тест mannwhitneyu по просмотрам"
   ]
  },
  {
   "cell_type": "code",
   "execution_count": 21,
   "id": "33ac0206-919b-49e9-898f-b81c72f00e21",
   "metadata": {},
   "outputs": [
    {
     "data": {
      "text/plain": [
       "Ttest_indResult(statistic=0.21340400193402262, pvalue=0.8310135327751322)"
      ]
     },
     "execution_count": 21,
     "metadata": {},
     "output_type": "execute_result"
    }
   ],
   "source": [
    "stats.ttest_ind(df[df.exp_group == 0].log_view, df[df.exp_group == 1].log_view, equal_var = False)"
   ]
  },
  {
   "cell_type": "code",
   "execution_count": 22,
   "id": "06d80388-241b-4a25-9923-4a18e64382a2",
   "metadata": {},
   "outputs": [
    {
     "data": {
      "text/plain": [
       "MannwhitneyuResult(statistic=84514942.0, pvalue=0.9717276363684261)"
      ]
     },
     "execution_count": 22,
     "metadata": {},
     "output_type": "execute_result"
    }
   ],
   "source": [
    "stats.mannwhitneyu(df[df.exp_group == 0].view, df[df.exp_group == 1].view)"
   ]
  },
  {
   "cell_type": "markdown",
   "id": "cb4fab98-c74b-47f7-9aec-7dbf5b3d5698",
   "metadata": {},
   "source": [
    "p-value > 0.05, это значит, что наши просмотры не пострадали. Нет значимых отличий по просмотрам в группе 0 и в группе 1"
   ]
  },
  {
   "cell_type": "markdown",
   "id": "988ccb1f-f770-402f-8f67-5b4805e4b9ab",
   "metadata": {},
   "source": [
    "### Вывод:"
   ]
  },
  {
   "cell_type": "markdown",
   "id": "8c4a1b37-4408-4321-a5ca-2dfdeb66be4c",
   "metadata": {},
   "source": [
    "В результате AB теста были выявлены значимые отличия в группах 0 и 1. Экспериментальная группа 1 показала значимо лучший результат CTR, чем проверочная группа 0.\n",
    "При этом число просмотров осталось таким же, как до эксперимента. Рекомендуется применить новый алгоритм на всех пользователей."
   ]
  }
 ],
 "metadata": {
  "kernelspec": {
   "display_name": "Python 3 (ipykernel)",
   "language": "python",
   "name": "python3"
  },
  "language_info": {
   "codemirror_mode": {
    "name": "ipython",
    "version": 3
   },
   "file_extension": ".py",
   "mimetype": "text/x-python",
   "name": "python",
   "nbconvert_exporter": "python",
   "pygments_lexer": "ipython3",
   "version": "3.9.7"
  }
 },
 "nbformat": 4,
 "nbformat_minor": 5
}
