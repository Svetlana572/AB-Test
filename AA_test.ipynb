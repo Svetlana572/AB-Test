{
 "cells": [
  {
   "cell_type": "markdown",
   "id": "d0e6809c-b498-419c-9e49-785f8c8f0ad1",
   "metadata": {},
   "source": [
    "## Проверка систем сплитования"
   ]
  },
  {
   "cell_type": "markdown",
   "id": "1c058f58",
   "metadata": {},
   "source": [
    "Предположим, что наш продукт это мобильное приложение. У нас есть база данных на ClickHouse. Все пользователи приложения делятся на группы (exp_group) для проведения экспериментов. Прежде чем проводить эксперименты, мы должны убедиться в том, что группы между собой не различаются.  "
   ]
  },
  {
   "cell_type": "code",
   "execution_count": 1,
   "id": "4744d0c4-8c7a-4c16-993f-4d874b25f755",
   "metadata": {},
   "outputs": [],
   "source": [
    "# импортируем нужные для работы библиотеки\n",
    "import pandas as pd\n",
    "import matplotlib.pyplot as plt\n",
    "import seaborn as sns\n",
    "import pandahouse as ph\n",
    "from scipy import stats"
   ]
  },
  {
   "cell_type": "code",
   "execution_count": 2,
   "id": "6bf8c1c1-60ec-427a-937a-83c7852df991",
   "metadata": {},
   "outputs": [],
   "source": [
    "# подключимся к базе данных\n",
    "connection = {'host': 'http://clickhouse.beslan.pro:8080',\n",
    "                      'database':'simulator_20220120',\n",
    "                      'user':'student', \n",
    "                      'password':'dpo_python_2020'\n",
    "                     }\n",
    "\n",
    "query = \"select user_id, countIf(user_id, action = 'like') as like, countIf(user_id, action = 'view') as view, like/view as ctr, exp_group from {db}.feed_actions where (toDate(time) between '2022-01-07' and '2022-01-13') and exp_group in (2, 3) group by user_id, exp_group\"\n",
    "df = ph.read_clickhouse(query, connection=connection)"
   ]
  },
  {
   "cell_type": "code",
   "execution_count": 3,
   "id": "1f2d0e12-f74c-4d3d-b55f-cfd2deae7097",
   "metadata": {},
   "outputs": [
    {
     "data": {
      "text/html": [
       "<div>\n",
       "<style scoped>\n",
       "    .dataframe tbody tr th:only-of-type {\n",
       "        vertical-align: middle;\n",
       "    }\n",
       "\n",
       "    .dataframe tbody tr th {\n",
       "        vertical-align: top;\n",
       "    }\n",
       "\n",
       "    .dataframe thead th {\n",
       "        text-align: right;\n",
       "    }\n",
       "</style>\n",
       "<table border=\"1\" class=\"dataframe\">\n",
       "  <thead>\n",
       "    <tr style=\"text-align: right;\">\n",
       "      <th></th>\n",
       "      <th>user_id</th>\n",
       "      <th>like</th>\n",
       "      <th>view</th>\n",
       "      <th>ctr</th>\n",
       "      <th>exp_group</th>\n",
       "    </tr>\n",
       "  </thead>\n",
       "  <tbody>\n",
       "    <tr>\n",
       "      <th>0</th>\n",
       "      <td>115383</td>\n",
       "      <td>11</td>\n",
       "      <td>36</td>\n",
       "      <td>0.305556</td>\n",
       "      <td>3</td>\n",
       "    </tr>\n",
       "    <tr>\n",
       "      <th>1</th>\n",
       "      <td>123580</td>\n",
       "      <td>15</td>\n",
       "      <td>92</td>\n",
       "      <td>0.163043</td>\n",
       "      <td>3</td>\n",
       "    </tr>\n",
       "    <tr>\n",
       "      <th>2</th>\n",
       "      <td>131473</td>\n",
       "      <td>26</td>\n",
       "      <td>148</td>\n",
       "      <td>0.175676</td>\n",
       "      <td>2</td>\n",
       "    </tr>\n",
       "    <tr>\n",
       "      <th>3</th>\n",
       "      <td>23985</td>\n",
       "      <td>12</td>\n",
       "      <td>66</td>\n",
       "      <td>0.181818</td>\n",
       "      <td>2</td>\n",
       "    </tr>\n",
       "    <tr>\n",
       "      <th>4</th>\n",
       "      <td>24523</td>\n",
       "      <td>17</td>\n",
       "      <td>120</td>\n",
       "      <td>0.141667</td>\n",
       "      <td>2</td>\n",
       "    </tr>\n",
       "    <tr>\n",
       "      <th>...</th>\n",
       "      <td>...</td>\n",
       "      <td>...</td>\n",
       "      <td>...</td>\n",
       "      <td>...</td>\n",
       "      <td>...</td>\n",
       "    </tr>\n",
       "    <tr>\n",
       "      <th>17044</th>\n",
       "      <td>122008</td>\n",
       "      <td>4</td>\n",
       "      <td>31</td>\n",
       "      <td>0.129032</td>\n",
       "      <td>3</td>\n",
       "    </tr>\n",
       "    <tr>\n",
       "      <th>17045</th>\n",
       "      <td>25383</td>\n",
       "      <td>16</td>\n",
       "      <td>57</td>\n",
       "      <td>0.280702</td>\n",
       "      <td>2</td>\n",
       "    </tr>\n",
       "    <tr>\n",
       "      <th>17046</th>\n",
       "      <td>122190</td>\n",
       "      <td>25</td>\n",
       "      <td>74</td>\n",
       "      <td>0.337838</td>\n",
       "      <td>3</td>\n",
       "    </tr>\n",
       "    <tr>\n",
       "      <th>17047</th>\n",
       "      <td>108927</td>\n",
       "      <td>8</td>\n",
       "      <td>33</td>\n",
       "      <td>0.242424</td>\n",
       "      <td>2</td>\n",
       "    </tr>\n",
       "    <tr>\n",
       "      <th>17048</th>\n",
       "      <td>17310</td>\n",
       "      <td>2</td>\n",
       "      <td>14</td>\n",
       "      <td>0.142857</td>\n",
       "      <td>2</td>\n",
       "    </tr>\n",
       "  </tbody>\n",
       "</table>\n",
       "<p>17049 rows × 5 columns</p>\n",
       "</div>"
      ],
      "text/plain": [
       "       user_id  like  view       ctr  exp_group\n",
       "0       115383    11    36  0.305556          3\n",
       "1       123580    15    92  0.163043          3\n",
       "2       131473    26   148  0.175676          2\n",
       "3        23985    12    66  0.181818          2\n",
       "4        24523    17   120  0.141667          2\n",
       "...        ...   ...   ...       ...        ...\n",
       "17044   122008     4    31  0.129032          3\n",
       "17045    25383    16    57  0.280702          2\n",
       "17046   122190    25    74  0.337838          3\n",
       "17047   108927     8    33  0.242424          2\n",
       "17048    17310     2    14  0.142857          2\n",
       "\n",
       "[17049 rows x 5 columns]"
      ]
     },
     "execution_count": 3,
     "metadata": {},
     "output_type": "execute_result"
    }
   ],
   "source": [
    "# посмотрим на наши данные\n",
    "df"
   ]
  },
  {
   "cell_type": "markdown",
   "id": "7bf0e5d1-6347-487a-90dd-e0df4d127e13",
   "metadata": {},
   "source": [
    "Проверим гипотезу, что CTR второй и третьей группы статистически не различаются"
   ]
  },
  {
   "cell_type": "markdown",
   "id": "c3f45e2a-ca70-406a-8f9e-01977f3fb177",
   "metadata": {},
   "source": [
    "### Сделаем симуляцию, как будто мы провели 10000 АА тестов и посмотрим в каком количестве случаев нам удалось отклонить нулевую гипотезу"
   ]
  },
  {
   "cell_type": "code",
   "execution_count": 4,
   "id": "5988fdcb-6141-4887-a6d5-d80bd850861f",
   "metadata": {},
   "outputs": [],
   "source": [
    "def get_global_ctr(ctr_data, n_samples = 10000):\n",
    "    global_ctr_data = []\n",
    "    for i in range(n_samples):\n",
    "        resample_data = ctr_data.sample(frac = 0.05, replace = True)\n",
    "        global_ctr = resample_data.like.sum() / resample_data.view.sum()\n",
    "        global_ctr_data.append(global_ctr)\n",
    "    \n",
    "    sns.displot(global_ctr_data)\n",
    "    return [\n",
    "        pd.Series(global_ctr_data).quantile(0.05),\n",
    "        pd.Series(global_ctr_data).mean(),\n",
    "        pd.Series(global_ctr_data).quantile(0.95)\n",
    "    ]"
   ]
  },
  {
   "cell_type": "code",
   "execution_count": 5,
   "id": "f2959af4-2446-4046-b290-12fa0ab1df1e",
   "metadata": {},
   "outputs": [
    {
     "data": {
      "text/plain": [
       "[0.2055424359846022, 0.2114164138764017, 0.21733736201880827]"
      ]
     },
     "execution_count": 5,
     "metadata": {},
     "output_type": "execute_result"
    },
    {
     "data": {
      "image/png": "[encoded data removed]",
      "text/plain": [
       "<Figure size 360x360 with 1 Axes>"
      ]
     },
     "metadata": {
      "needs_background": "light"
     },
     "output_type": "display_data"
    }
   ],
   "source": [
    "get_global_ctr(df[df.exp_group == 2])"
   ]
  },
  {
   "cell_type": "code",
   "execution_count": 6,
   "id": "7e200467-8437-41fa-8032-702d8cf8c637",
   "metadata": {},
   "outputs": [
    {
     "data": {
      "text/plain": [
       "[0.20485336333971052, 0.21076785341214876, 0.21666411668074456]"
      ]
     },
     "execution_count": 6,
     "metadata": {},
     "output_type": "execute_result"
    },
    {
     "data": {
      "image/png": "[encoded data removed]",
      "text/plain": [
       "<Figure size 360x360 with 1 Axes>"
      ]
     },
     "metadata": {
      "needs_background": "light"
     },
     "output_type": "display_data"
    }
   ],
   "source": [
    "get_global_ctr(df[df.exp_group == 3])"
   ]
  },
  {
   "cell_type": "markdown",
   "id": "cdf5a9e2-8b81-4b8f-b959-54154d9bcd85",
   "metadata": {},
   "source": [
    "Видим, что границы доверительного интервала практически совпадают. Можно сделать вывод, что global ctr между группами 2 и 3 не различаются "
   ]
  },
  {
   "cell_type": "code",
   "execution_count": 13,
   "id": "0cc23035-bdcc-4533-80c5-e7d221b80a30",
   "metadata": {},
   "outputs": [],
   "source": [
    "# Проведем t-test для 10000 подвыборок из 500 юзеров\n",
    "p_values_ctr = []\n",
    "for i in range(10000):\n",
    "    exp_group2 = df[df.exp_group == 2].sample(frac = 0.05, replace=True).ctr.values\n",
    "    exp_group3 = df[df.exp_group == 3].sample(frac = 0.05, replace=True).ctr.values\n",
    "    p_value = stats.ttest_ind(exp_group2, exp_group3, equal_var = False)[1]\n",
    "    p_values_ctr.append(p_value)"
   ]
  },
  {
   "cell_type": "markdown",
   "id": "a9493812-f1a3-490f-a301-596c27094877",
   "metadata": {},
   "source": [
    "Построим гистограмму распределения получившихся 10000 p-values"
   ]
  },
  {
   "cell_type": "code",
   "execution_count": 14,
   "id": "a8ba71f5-50d1-42da-b223-82b3ac65eb28",
   "metadata": {},
   "outputs": [
    {
     "data": {
      "text/plain": [
       "<seaborn.axisgrid.FacetGrid at 0x1e4cb884e80>"
      ]
     },
     "execution_count": 14,
     "metadata": {},
     "output_type": "execute_result"
    },
    {
     "data": {
      "image/png": "[encoded data removed]",
      "text/plain": [
       "<Figure size 360x360 with 1 Axes>"
      ]
     },
     "metadata": {
      "needs_background": "light"
     },
     "output_type": "display_data"
    }
   ],
   "source": [
    "sns.displot(p_values_ctr, bins=30, kde=False)"
   ]
  },
  {
   "cell_type": "markdown",
   "id": "bcc9c31f-ee3b-4261-a3a4-e98e802d57d8",
   "metadata": {},
   "source": [
    "Посчитаем, какой процент p values оказался меньше либо равен 0.05"
   ]
  },
  {
   "cell_type": "code",
   "execution_count": 15,
   "id": "c50cef93-295d-48d9-899c-d432554c9fc1",
   "metadata": {},
   "outputs": [
    {
     "data": {
      "text/plain": [
       "5.029999999999999"
      ]
     },
     "execution_count": 15,
     "metadata": {},
     "output_type": "execute_result"
    }
   ],
   "source": [
    "(pd.Series(p_values_ctr) <= 0.05).sum() / 10000 * 100"
   ]
  },
  {
   "cell_type": "markdown",
   "id": "89cc5294-218a-40c7-814e-8164e97ae85b",
   "metadata": {},
   "source": [
    "Вывод: "
   ]
  },
  {
   "cell_type": "markdown",
   "id": "289c3392-9a4f-4fae-87de-a8d03c85680e",
   "metadata": {},
   "source": [
    "Из 10000 подвыборок, в 5% случаев p-values меньше или равно 0.05. Можно сделать вывод, что система сплитования работает корректно."
   ]
  }
 ],
 "metadata": {
  "kernelspec": {
   "display_name": "Python 3 (ipykernel)",
   "language": "python",
   "name": "python3"
  },
  "language_info": {
   "codemirror_mode": {
    "name": "ipython",
    "version": 3
   },
   "file_extension": ".py",
   "mimetype": "text/x-python",
   "name": "python",
   "nbconvert_exporter": "python",
   "pygments_lexer": "ipython3",
   "version": "3.9.7"
  }
 },
 "nbformat": 4,
 "nbformat_minor": 5
}
